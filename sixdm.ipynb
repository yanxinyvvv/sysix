{
 "cells": [
  {
   "cell_type": "code",
   "execution_count": 2,
   "metadata": {},
   "outputs": [
    {
     "name": "stdout",
     "output_type": "stream",
     "text": [
      "传递实参\n"
     ]
    }
   ],
   "source": [
    "def display_message():\n",
    "    print(\"传递实参\")\n",
    "display_message()"
   ]
  },
  {
   "cell_type": "code",
   "execution_count": 3,
   "metadata": {},
   "outputs": [
    {
     "name": "stdout",
     "output_type": "stream",
     "text": [
      "One of my favorite books is Alice In Wonderland\n"
     ]
    }
   ],
   "source": [
    "def favorite_book(book_name):\n",
    "    print(\"One of my favorite books is \"+book_name.title())\n",
    "favorite_book('Alice in wonderland')\n"
   ]
  },
  {
   "cell_type": "code",
   "execution_count": null,
   "metadata": {},
   "outputs": [
    {
     "name": "stdout",
     "output_type": "stream",
     "text": [
      "This T-shirt's size is M\n",
      "\n",
      "With GOOD LUCK on it.\n",
      "This T-shirt's size is M\n",
      "\n",
      "With GOOD LUCK on it.\n"
     ]
    }
   ],
   "source": [
    "def make_shirt(size,characters):\n",
    "    print(\"This T-shirt's size is \"+ size)\n",
    "    print(\"\\nWith \"+ characters.upper() +' on it.')\n",
    "make_shirt(size=\"M\",characters=\"GOOD LUCK\")#关键字实参\n",
    "make_shirt(\"M\",\"GOOD LUCK\")#位置实参"
   ]
  },
  {
   "cell_type": "code",
   "execution_count": 1,
   "metadata": {},
   "outputs": [
    {
     "name": "stdout",
     "output_type": "stream",
     "text": [
      "This T-shirt's size is L\n",
      "With I LOVE PYTHON on it.\n",
      "\n",
      "This T-shirt's size is M\n",
      "With I LOVE PYTHON on it.\n",
      "\n",
      "This T-shirt's size is L\n",
      "With GOOD LUCK on it.\n",
      "\n"
     ]
    }
   ],
   "source": [
    "def make_shirt(size = \"L\",characters = \"I Love Python\"):\n",
    "    print(\"This T-shirt's size is \"+ size)\n",
    "    print(\"With \"+ characters.upper() +' on it.\\n')\n",
    "make_shirt()\n",
    "make_shirt(size=\"M\")\n",
    "make_shirt(characters=\"GOOD LUCK\")"
   ]
  },
  {
   "cell_type": "code",
   "execution_count": 2,
   "metadata": {},
   "outputs": [
    {
     "name": "stdout",
     "output_type": "stream",
     "text": [
      "B is in A\n",
      "C is in D\n",
      "E is in F\n"
     ]
    }
   ],
   "source": [
    "def describe_city(name,country = \"A\"):\n",
    "    print(name.title()+\" is in \"+country)\n",
    "describe_city(name = \"B\")\n",
    "describe_city(name = \"C\",country=\"D\")\n",
    "describe_city(name=\"E\", country=\"F\")"
   ]
  },
  {
   "cell_type": "code",
   "execution_count": 3,
   "metadata": {},
   "outputs": [
    {
     "name": "stdout",
     "output_type": "stream",
     "text": [
      "Santiago,Chile\n"
     ]
    }
   ],
   "source": [
    "def city_country(city,country):\n",
    "    full = city+\",\"+country\n",
    "    return  full.title()\n",
    "Full = city_country('santiago','chile')\n",
    "print(Full)"
   ]
  },
  {
   "cell_type": "code",
   "execution_count": 4,
   "metadata": {},
   "outputs": [
    {
     "name": "stdout",
     "output_type": "stream",
     "text": [
      "{'singer': 'Jack', 'album': 'Long Time'}\n",
      "{'singer': 'Jack', 'album': 'Short Time', 'number': 3}\n",
      "{'singer': 'Jack', 'album': 'No Time', 'number': 1}\n"
     ]
    }
   ],
   "source": [
    "def make_album(singer,album,number =\"\"):\n",
    "    infor = {'singer':singer,'album':album}\n",
    "    if number:\n",
    "        infor['number'] = number\n",
    "    return infor\n",
    "music = make_album('Jack','Long Time')\n",
    "print(music)\n",
    "music = make_album('Jack','Short Time',3)\n",
    "print(music)\n",
    "music = make_album('Jack','No Time',1)\n",
    "print(music)"
   ]
  },
  {
   "cell_type": "code",
   "execution_count": 8,
   "metadata": {},
   "outputs": [
    {
     "name": "stdout",
     "output_type": "stream",
     "text": [
      "Please input your favorite singer and album:\n",
      "(enter 'q' at any time to quit)\n",
      "Here is your favorite singer and album: {'singer': '', 'album': ''}\n",
      "Please input your favorite singer and album:\n",
      "(enter 'q' at any time to quit)\n",
      "Here is your favorite singer and album: {'singer': '', 'album': ''}\n",
      "Please input your favorite singer and album:\n",
      "(enter 'q' at any time to quit)\n",
      "Here is your favorite singer and album: {'singer': '', 'album': ''}\n",
      "Please input your favorite singer and album:\n",
      "(enter 'q' at any time to quit)\n"
     ]
    }
   ],
   "source": [
    "def make_album(singer,album,number =\"\"):\n",
    "    infor = {'singer':singer,'album':album}\n",
    "    if number:\n",
    "        infor['number'] = number\n",
    "    return infor\n",
    "while True:\n",
    "    print(\"Please input your favorite singer and album:\")\n",
    "    print(\"(enter 'q' at any time to quit)\")\n",
    "    singer = input(\"The singer:\")\n",
    "    if singer == 'q':\n",
    "        break\n",
    "    album = input(\"The album:\")\n",
    "    if album == 'q':\n",
    "        break\n",
    "    prefer = make_album(singer,album)#作为形参名称传递时，不需要添加引号；作为形参内容传递时，添加上引号\n",
    "    print(\"Here is your favorite singer and album: \"+ str(prefer))"
   ]
  },
  {
   "cell_type": "code",
   "execution_count": 1,
   "metadata": {},
   "outputs": [
    {
     "name": "stdout",
     "output_type": "stream",
     "text": [
      "Hey,your name is Linda\n",
      "Hey,your name is Max\n",
      "Hey,your name is Caroline\n"
     ]
    }
   ],
   "source": [
    "\n",
    "def show_magicians(names):\n",
    "    \"\"\"打印出每个魔术师的名字\"\"\"\n",
    "    for name in names:\n",
    "        print(\"Hey,your name is \"+ name)\n",
    "magicians = [\"Linda\",\"Max\",\"Caroline\"]\n",
    "show_magicians(magicians)"
   ]
  },
  {
   "cell_type": "code",
   "execution_count": 2,
   "metadata": {},
   "outputs": [
    {
     "name": "stdout",
     "output_type": "stream",
     "text": [
      "Hey Caroline\n",
      "Hey Max\n",
      "Hey Linda\n",
      "['The Great: Linda', 'The Great: Max', 'The Great: Caroline']\n"
     ]
    }
   ],
   "source": [
    "def show_magicians(original_names,modi_names):\n",
    "    \"\"\"打印出每个魔术师的名字\"\"\"\n",
    "    while original_names:\n",
    "        current_name = original_names.pop()\n",
    "        print(\"Hey \"+ current_name)\n",
    "        modi_names.append(current_name)\n",
    "def add_The_Great(modi_names):\n",
    "    \"\"\"为每个魔术师名字增加The Great\"\"\"\n",
    "    modified_names = []\n",
    "    while modi_names:\n",
    "        current_name = modi_names.pop()\n",
    "        modified_names.append(\"The Great: \" + current_name)\n",
    "    print(modified_names)\n",
    "original_names = [\"Linda\",\"Max\",\"Caroline\"]\n",
    "modi_names = []\n",
    "show_magicians(original_names,modi_names)\n",
    "add_The_Great(modi_names)"
   ]
  },
  {
   "cell_type": "code",
   "execution_count": 3,
   "metadata": {},
   "outputs": [
    {
     "name": "stdout",
     "output_type": "stream",
     "text": [
      "the Great David Copperfield\n",
      "the Great Criss Angel\n",
      "the Great David Blaine\n",
      "David Copperfield\n",
      "Criss Angel\n",
      "David Blaine\n",
      "the Great David Copperfield\n",
      "the Great Criss Angel\n",
      "the Great David Blaine\n",
      "the Great David Copperfield\n",
      "the Great Criss Angel\n",
      "the Great David Blaine\n"
     ]
    }
   ],
   "source": [
    "def make_great(magicians):\n",
    "    for i in range(len(magicians)):\n",
    "        magicians[i] = \"the Great \" + magicians[i]\n",
    "    return magicians\n",
    " \n",
    "def show_magicians(magicians):\n",
    "    for magician in magicians:\n",
    "        print(magician)\n",
    " \n",
    "magicians = [\"David Copperfield\", \"Criss Angel\", \"David Blaine\"]\n",
    "great_magicians = make_great(magicians[:])\n",
    "show_magicians(great_magicians)\n",
    "show_magicians(magicians)#调用副本，原列表没有发生改变\n",
    "great_magicians = make_great(magicians)\n",
    "show_magicians(great_magicians)\n",
    "show_magicians(magicians)#调用原来的列表，列表发生了改变"
   ]
  },
  {
   "cell_type": "code",
   "execution_count": 4,
   "metadata": {},
   "outputs": [
    {
     "name": "stdout",
     "output_type": "stream",
     "text": [
      "\n",
      "Making a sandwich with the following toppings: \n",
      "-chicken\n",
      "-egg\n",
      "-vegetables\n",
      "-bread\n"
     ]
    }
   ],
   "source": [
    "def make_sandwiches(*toppings):\n",
    "    \"\"\"概述要制作的三明治食材\"\"\"\n",
    "    print('\\nMaking a sandwich with the following toppings: ')\n",
    "    for topping in toppings:\n",
    "        print('-'+topping)\n",
    "make_sandwiches('chicken','egg','vegetables','bread')"
   ]
  },
  {
   "cell_type": "code",
   "execution_count": 12,
   "metadata": {},
   "outputs": [
    {
     "name": "stdout",
     "output_type": "stream",
     "text": [
      "{'first_name': 'xiao', 'last_name': 'ming', 'like': 'guitar', 'phone': '1231', 'home': '7 stress'}\n"
     ]
    }
   ],
   "source": [
    "def build_profile(first,last,**userinfo):\n",
    "    profit={}\n",
    "    profit['first_name']=first\n",
    "    profit['last_name']=last\n",
    "    for key,value in userinfo.items():\n",
    "        profit[key]=value\n",
    "    return profit\n",
    "user1=build_profile('xiao','ming',like='guitar',phone='1231',home='7 stress')\n",
    "print(user1)"
   ]
  },
  {
   "cell_type": "code",
   "execution_count": 11,
   "metadata": {},
   "outputs": [
    {
     "name": "stdout",
     "output_type": "stream",
     "text": [
      "{'manufacturer': 'subaru', 'model': 'outback', 'color': 'blue', 'two_package': True}\n"
     ]
    }
   ],
   "source": [
    "def make_car(manufacturer,model,**carinfor):\n",
    "    car={}\n",
    "    car['manufacturer']=manufacturer\n",
    "    car['model']=model\n",
    "    for key,value in carinfor.items():\n",
    "        car[key]=value\n",
    "    return car\n",
    "car=make_car('subaru','outback',color='blue',two_package=True)\n",
    "print(car)"
   ]
  }
 ],
 "metadata": {
  "kernelspec": {
   "display_name": "Python 3",
   "language": "python",
   "name": "python3"
  },
  "language_info": {
   "codemirror_mode": {
    "name": "ipython",
    "version": 3
   },
   "file_extension": ".py",
   "mimetype": "text/x-python",
   "name": "python",
   "nbconvert_exporter": "python",
   "pygments_lexer": "ipython3",
   "version": "3.11.6"
  }
 },
 "nbformat": 4,
 "nbformat_minor": 2
}
